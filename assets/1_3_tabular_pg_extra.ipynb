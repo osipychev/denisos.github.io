{
 "cells": [
  {
   "cell_type": "markdown",
   "metadata": {},
   "source": [
    "# 1.3. Tabular Policy Gradient (Comparison of Features)\n",
    "## Discrete state, discrete action problem\n",
    "\n",
    "Simple dicrete gridworld environment that can be solved with a tabular Reinforcement Learning (RL)"
   ]
  },
  {
   "cell_type": "code",
   "execution_count": 1,
   "metadata": {},
   "outputs": [],
   "source": [
    "# import env and modules\n",
    "import gym\n",
    "import numpy as np\n",
    "import myenv\n",
    "import inspect\n",
    "import service_functions as sf"
   ]
  },
  {
   "cell_type": "code",
   "execution_count": 2,
   "metadata": {},
   "outputs": [
    {
     "name": "stdout",
     "output_type": "stream",
     "text": [
      "The environment is initialized\n",
      "This is a simple grid-world env 5x5 with 1x25 state.\n",
      "You can render it with .render()\n",
      "[[0. 1. 0. 3. 0.]\n",
      " [0. 0. 0. 0. 0.]\n",
      " [0. 8. 0. 4. 0.]\n",
      " [0. 0. 0. 0. 0.]\n",
      " [0. 2. 0. 0. 0.]]\n",
      "Env step return (state,reward,done): (16, 0, False, {})\n"
     ]
    }
   ],
   "source": [
    "# create an instance of env\n",
    "env = myenv.SimpleGridWorldEnv()\n",
    "env.render()\n",
    "print('Env step return (state,reward,done):',env.step(env.action_space.sample()))"
   ]
  },
  {
   "cell_type": "markdown",
   "metadata": {},
   "source": [
    "### Policy-based algorithms in Reinforcement Learning (RL)\n",
    "\n",
    "Policy Learning (Policy Gradient) is family of algorithms in RL.\n",
    "\n",
    "This examples provide a comparison of additional features often used with PG method."
   ]
  },
  {
   "cell_type": "code",
   "execution_count": 3,
   "metadata": {},
   "outputs": [
    {
     "name": "stdout",
     "output_type": "stream",
     "text": [
      "def softmax(x):\n",
      "    \"\"\" stable softmax with normalization\"\"\"\n",
      "    exps = np.exp(x - np.max(x))\n",
      "    return exps / np.sum(exps)\n",
      "\n"
     ]
    }
   ],
   "source": [
    "# use stable softmax with normalization to compute the probabily of the action\n",
    "print(inspect.getsource(sf.softmax))"
   ]
  },
  {
   "cell_type": "code",
   "execution_count": 4,
   "metadata": {},
   "outputs": [
    {
     "name": "stdout",
     "output_type": "stream",
     "text": [
      "def discount_rewards(r_arr, gamma):\n",
      "    \"\"\" function to discount reward in trajectory (WITH CAUSALITY)\"\"\"\n",
      "    discounted_reward = np.zeros_like(r_arr)\n",
      "    running_reward = 0\n",
      "    for t in reversed(range(len(r_arr))):\n",
      "        running_reward = running_reward*gamma + r_arr[t]\n",
      "        discounted_reward[t] = running_reward\n",
      "    return discounted_reward\n",
      "\n"
     ]
    }
   ],
   "source": [
    "# use discounted reward for trajectory (WITH CAUSALITY) \n",
    "print(inspect.getsource(sf.discount_rewards))"
   ]
  },
  {
   "cell_type": "code",
   "execution_count": 5,
   "metadata": {},
   "outputs": [
    {
     "name": "stdout",
     "output_type": "stream",
     "text": [
      "class ReplayBuffer():\n",
      "    \"\"\" implementation of replay memmory\"\"\"\n",
      "    def __init__(self, capacity):\n",
      "        import random\n",
      "        self.capacity = capacity\n",
      "        self.memory = []\n",
      "        self.position = 0\n",
      "        self.random = random\n",
      "\n",
      "    def push(self, arg):\n",
      "        if len(self.memory) < self.capacity:\n",
      "            self.memory.append(None)\n",
      "        self.memory[self.position] = arg\n",
      "        self.position = (self.position + 1) % self.capacity\n",
      "\n",
      "    def sample(self, batch_size):\n",
      "        if len(self.memory) < batch_size:\n",
      "            batch_size = len(self.memory)\n",
      "        return self.random.sample(self.memory, batch_size)\n",
      "    \n",
      "    def size(self):\n",
      "        return len(self.memory)\n",
      "\n"
     ]
    }
   ],
   "source": [
    "# use replay memmory class\n",
    "print(inspect.getsource(sf.ReplayBuffer))"
   ]
  },
  {
   "cell_type": "code",
   "execution_count": 6,
   "metadata": {},
   "outputs": [],
   "source": [
    "# initialize hyperparams for PG\n",
    "n_episodes = 500\n",
    "episode_lenght = 100\n",
    "gamma = 0.9\n",
    "alpha = 0.01\n",
    "update_freq = 10\n",
    "buffer_size = 1000\n",
    "batch_size = 100"
   ]
  },
  {
   "cell_type": "markdown",
   "metadata": {},
   "source": [
    "### Policy Gradient - REINFORCE with no Causality"
   ]
  },
  {
   "cell_type": "code",
   "execution_count": 7,
   "metadata": {},
   "outputs": [],
   "source": [
    "# gradient function for softmax given single trajectory (based on lecture notes)\n",
    "def gradient_no_causality(policy, s_arr, a_arr, r_arr):\n",
    "    n = len(r_arr)\n",
    "    g = np.zeros_like(policy)\n",
    "    for t in range(n):\n",
    "        dp = np.eye(4)[a_arr[t]] - sf.softmax(policy[s_arr[t]]) #one hot vector -minus policy for one state\n",
    "        g[s_arr[t]] = g[s_arr[t]] + dp * r_arr[0] #accumulate gradients through trajectory\n",
    "    return g"
   ]
  },
  {
   "cell_type": "code",
   "execution_count": 8,
   "metadata": {},
   "outputs": [],
   "source": [
    "# PG algorithm with Causality and Trajectory Buffer\n",
    "def PolicyGradWithNoCas():\n",
    "    stats = []\n",
    "    trajectory_buffer = sf.ReplayBuffer(buffer_size)\n",
    "    \n",
    "    # policy table init\n",
    "    policy = np.random.rand(env.observation_space.n, env.action_space.n)-0.5\n",
    "    grad_buffer = np.zeros_like(policy)\n",
    "            \n",
    "            \n",
    "    for i_episode in range(n_episodes):\n",
    "        r_total = 0\n",
    "        s = env.reset()\n",
    "        trajectory = []\n",
    "            \n",
    "        for t in range(episode_lenght):\n",
    "        \n",
    "            a_distr = sf.softmax(policy[s]) #get prob distr over actions\n",
    "            a = np.random.choice(np.arange(4), p=a_distr) #draw an action w.r. to prob distr\n",
    "            s_prime, r, d, _ = env.step(a)\n",
    "\n",
    "            trajectory.append([s,a,r])\n",
    "                \n",
    "            s = s_prime\n",
    "            r_total += r\n",
    "                \n",
    "            if d:\n",
    "                break\n",
    "              \n",
    "        trajectory_buffer.push(trajectory)\n",
    "        \n",
    "        if i_episode % update_freq == 0 and i_episode!=0:\n",
    "            # update gradient buffer with sampled trajectories\n",
    "            batch = trajectory_buffer.sample(batch_size)\n",
    "            for traj in batch:\n",
    "                s_arr, a_arr, r_arr = zip(*traj)\n",
    "                r_arr = sf.discount_rewards(r_arr, gamma)\n",
    "                grad = gradient_no_causality(policy, s_arr, a_arr, r_arr)\n",
    "                grad_buffer = grad_buffer + grad #accumulate gradients b/w updates\n",
    "            policy = policy + alpha*grad_buffer\n",
    "            grad_buffer = np.zeros_like(policy)\n",
    "            trajectory_buffer = sf.ReplayBuffer(buffer_size)\n",
    "        \n",
    "        # Update statistics\n",
    "        r_total /= t\n",
    "        stats.append([i_episode,r_total])\n",
    "        sf.print_progress(i_episode,n_episodes-1, r_total)\n",
    "    \n",
    "    return policy,stats"
   ]
  },
  {
   "cell_type": "code",
   "execution_count": 9,
   "metadata": {
    "scrolled": false
   },
   "outputs": [
    {
     "name": "stdout",
     "output_type": "stream",
     "text": [
      " |██████████████████████████████████████████████████| Progress:100.0% Val:0.8585858585858586   \n"
     ]
    }
   ],
   "source": [
    "# run the algorithm to get statistics\n",
    "env.stochastic_transitions = True\n",
    "_, statsPGNC = PolicyGradWithNoCas()"
   ]
  },
  {
   "cell_type": "markdown",
   "metadata": {},
   "source": [
    "### Policy Gradient - REINFORCE with Causality"
   ]
  },
  {
   "cell_type": "code",
   "execution_count": 10,
   "metadata": {},
   "outputs": [
    {
     "name": "stdout",
     "output_type": "stream",
     "text": [
      "def gradient(policy, s_arr, a_arr, r_arr):\n",
      "    \"\"\" gradient function for softmax given single trajectory (based on lecture notes)\"\"\"\n",
      "    n = len(r_arr)\n",
      "    g = np.zeros_like(policy)\n",
      "    for t in range(n):\n",
      "        dp = np.eye(4)[a_arr[t]] - softmax(policy[s_arr[t]]) #one hot vector -minus policy for one state\n",
      "        g[s_arr[t]] = g[s_arr[t]] + dp * r_arr[t] #accumulate gradients through trajectory\n",
      "    return g\n",
      "\n"
     ]
    }
   ],
   "source": [
    "# gradient function with Causality\n",
    "print(inspect.getsource(sf.gradient))"
   ]
  },
  {
   "cell_type": "code",
   "execution_count": 11,
   "metadata": {},
   "outputs": [],
   "source": [
    "# PG algorithm with Causality and Trajectory Buffer\n",
    "def PolicyGrad():\n",
    "    stats = []\n",
    "    trajectory_buffer = sf.ReplayBuffer(buffer_size)\n",
    "    \n",
    "    # policy table init\n",
    "    policy = np.random.rand(env.observation_space.n, env.action_space.n)-0.5\n",
    "    grad_buffer = np.zeros_like(policy)\n",
    "            \n",
    "            \n",
    "    for i_episode in range(n_episodes):\n",
    "        r_total = 0\n",
    "        s = env.reset()\n",
    "        trajectory = []\n",
    "            \n",
    "        for t in range(episode_lenght):\n",
    "        \n",
    "            a_distr = sf.softmax(policy[s]) #get prob distr over actions\n",
    "            a = np.random.choice(np.arange(4), p=a_distr) #draw an action w.r. to prob distr\n",
    "            s_prime, r, d, _ = env.step(a)\n",
    "\n",
    "            trajectory.append([s,a,r])\n",
    "                \n",
    "            s = s_prime\n",
    "            r_total += r\n",
    "                \n",
    "            if d:\n",
    "                break\n",
    "              \n",
    "        trajectory_buffer.push(trajectory)\n",
    "        \n",
    "        if i_episode % update_freq == 0 and i_episode!=0:\n",
    "            # update gradient buffer with sampled trajectories\n",
    "            batch = trajectory_buffer.sample(batch_size)\n",
    "            for traj in batch:\n",
    "                s_arr, a_arr, r_arr = zip(*traj)\n",
    "                r_arr = sf.discount_rewards(r_arr, gamma)\n",
    "                grad = sf.gradient(policy, s_arr, a_arr, r_arr)\n",
    "                grad_buffer = grad_buffer + grad #accumulate gradients b/w updates\n",
    "            policy = policy + alpha*grad_buffer\n",
    "            grad_buffer = np.zeros_like(policy)\n",
    "            trajectory_buffer = sf.ReplayBuffer(buffer_size)\n",
    "        \n",
    "        # Update statistics\n",
    "        r_total /= t\n",
    "        stats.append([i_episode,r_total])\n",
    "        sf.print_progress(i_episode,n_episodes-1, r_total)\n",
    "    \n",
    "    return policy,stats"
   ]
  },
  {
   "cell_type": "code",
   "execution_count": 12,
   "metadata": {},
   "outputs": [
    {
     "name": "stdout",
     "output_type": "stream",
     "text": [
      " |██████████████████████████████████████████████████| Progress:100.0% Val:1.5252525252525253  \n"
     ]
    }
   ],
   "source": [
    "# run the algorithm to get statistics\n",
    "env.stochastic_transitions = True\n",
    "_, statsPGwC = PolicyGrad()"
   ]
  },
  {
   "cell_type": "markdown",
   "metadata": {},
   "source": [
    "### Policy Gradient - REINFORCE with Off-Policy Learning"
   ]
  },
  {
   "cell_type": "code",
   "execution_count": 13,
   "metadata": {},
   "outputs": [],
   "source": [
    "# gradient function for softmax given single trajectory\n",
    "def gradient_off_policy(policy, s_arr, a_arr, r_arr, l_arr):\n",
    "    n = len(r_arr)\n",
    "    g = np.zeros_like(policy)\n",
    "    loglikelihood = 0\n",
    "    for t in range(n):\n",
    "        loglikelihood += np.log(sf.softmax(policy[s_arr[t]])[a_arr[t]])\n",
    "        dp = np.eye(4)[a_arr[t]] - sf.softmax(policy[s_arr[t]]) #one hot vector -minus policy for one state\n",
    "        prob_ratio = np.exp((loglikelihood-l_arr[t]))\n",
    "        g[s_arr[t]] = g[s_arr[t]] + prob_ratio * dp * r_arr[t] #accumulate gradients through trajectory\n",
    "    return g"
   ]
  },
  {
   "cell_type": "code",
   "execution_count": 14,
   "metadata": {},
   "outputs": [],
   "source": [
    "# PG REINFORCE algorithm with Off Line Policy\n",
    "def PolicyGrad_OffPolicy():\n",
    "    stats = []\n",
    "    trajectory_buffer = sf.ReplayBuffer(buffer_size)\n",
    "    \n",
    "    # policy table init\n",
    "    policy = np.random.rand(env.observation_space.n, env.action_space.n)-0.5\n",
    "    grad_buffer = np.zeros_like(policy)\n",
    "            \n",
    "            \n",
    "    for i_episode in range(n_episodes):\n",
    "        r_total = 0\n",
    "        s = env.reset()\n",
    "        trajectory = []\n",
    "        loglikelihood = 0\n",
    "            \n",
    "        for t in range(episode_lenght):\n",
    "        \n",
    "            a_distr = sf.softmax(policy[s]) #get prob distr over actions\n",
    "            a = np.random.choice(np.arange(4), p=a_distr) #draw an action w.r. to prob distr\n",
    "            s_prime, r, d, _ = env.step(a)\n",
    "            loglikelihood += np.log(a_distr[a])\n",
    "\n",
    "            trajectory.append([s,a,r,loglikelihood])\n",
    "                \n",
    "            s = s_prime\n",
    "            r_total += r\n",
    "                \n",
    "            if d:\n",
    "                break\n",
    "              \n",
    "        trajectory_buffer.push(trajectory)\n",
    "        \n",
    "        if i_episode % update_freq == 0 and i_episode!=0:\n",
    "            # update gradient buffer with sampled trajectories\n",
    "            batch = trajectory_buffer.sample(batch_size)\n",
    "            for traj in batch:\n",
    "                s_arr, a_arr, r_arr, l_arr = zip(*traj)\n",
    "                r_arr = sf.discount_rewards(r_arr, gamma)\n",
    "                grad = gradient_off_policy(policy, s_arr, a_arr, r_arr, l_arr)\n",
    "                grad_buffer = grad_buffer + grad #accumulate gradients b/w updates\n",
    "            policy = policy + alpha*grad_buffer\n",
    "            grad_buffer = np.zeros_like(policy)\n",
    "                    \n",
    "        # Update statistics\n",
    "        r_total /= t\n",
    "        stats.append([i_episode,r_total])\n",
    "        sf.print_progress(i_episode,n_episodes-1, r_total)\n",
    "\n",
    "    return policy,stats"
   ]
  },
  {
   "cell_type": "code",
   "execution_count": 15,
   "metadata": {},
   "outputs": [
    {
     "name": "stdout",
     "output_type": "stream",
     "text": [
      " |██████████████████████████████████████████████████| Progress:100.0% Val:1.3535353535353536  \n"
     ]
    }
   ],
   "source": [
    "# run the algorithm to get statistics\n",
    "env.stochastic_transitions = True\n",
    "_, statsPGOP = PolicyGrad_OffPolicy()"
   ]
  },
  {
   "cell_type": "markdown",
   "metadata": {},
   "source": [
    "### Policy Gradient - REINFORCE with Baseline Shift"
   ]
  },
  {
   "cell_type": "code",
   "execution_count": 16,
   "metadata": {},
   "outputs": [],
   "source": [
    "# gradient function for softmax given single trajectory (based on lecture notes)\n",
    "def gradient_with_baseline(policy, baseline, s_arr, a_arr, r_arr):\n",
    "    n = len(r_arr)\n",
    "    g = np.zeros_like(policy)\n",
    "    for t in range(n):\n",
    "        dp = np.eye(4)[a_arr[t]] - sf.softmax(policy[s_arr[t]]) #one hot vector -minus policy for one state\n",
    "        g[s_arr[t]] = g[s_arr[t]] + dp * (r_arr[t] - baseline[s_arr[t]]) #accumulate gradients through trajectory\n",
    "    return g"
   ]
  },
  {
   "cell_type": "code",
   "execution_count": 17,
   "metadata": {},
   "outputs": [],
   "source": [
    "# gradient function for softmax given single trajectory (based on lecture notes)\n",
    "def gradient_of_baseline(policy, baseline, s_arr, a_arr, r_arr):\n",
    "    n = len(r_arr)\n",
    "    b = np.zeros_like(baseline)\n",
    "    for t in reversed(range(n-1)):\n",
    "        db = r_arr[t] + gamma * baseline[s_arr[t+1]] - baseline[s_arr[t]]\n",
    "        b[s_arr[t]] = b[s_arr[t]] + db #accumulate gradients through trajectory\n",
    "    return b"
   ]
  },
  {
   "cell_type": "code",
   "execution_count": 18,
   "metadata": {},
   "outputs": [],
   "source": [
    "# PG REINFORCE algorithm with baseline shift (for variance reduction)\n",
    "def PolicyGradWithBaseline():\n",
    "    stats = []\n",
    "    \n",
    "    # policy table init\n",
    "    policy = np.random.rand(env.observation_space.n, env.action_space.n)-0.5\n",
    "    baseline = np.asarray(policy)\n",
    "    trajectory_buffer = sf.ReplayBuffer(buffer_size)\n",
    "            \n",
    "    for i_episode in range(n_episodes):\n",
    "        r_total = 0\n",
    "        s = env.reset()\n",
    "        trajectory = []\n",
    "            \n",
    "        for t in range(episode_lenght):\n",
    "        \n",
    "            a_distr = sf.softmax(policy[s]) #get prob distr over actions\n",
    "            a = np.random.choice(np.arange(4), p=a_distr) #draw an action w.r. to prob distr\n",
    "            s_prime, r, d, _ = env.step(a)\n",
    "\n",
    "            trajectory.append([s,a,r])\n",
    "                \n",
    "            s = s_prime\n",
    "            r_total += r\n",
    "                \n",
    "            if d:\n",
    "                break\n",
    "              \n",
    "        trajectory_buffer.push(trajectory)\n",
    "        \n",
    "        if i_episode % update_freq == 0 and i_episode!=0:\n",
    "            # update gradient buffer with new trajectory\n",
    "            grad_policy_buffer = np.zeros_like(policy)\n",
    "            grad_baseline_buffer = np.zeros_like(baseline)\n",
    "            \n",
    "            batch = trajectory_buffer.sample(batch_size)\n",
    "            for traj in batch:\n",
    "                s_arr, a_arr, r_arr = zip(*traj)\n",
    "                r_arr = sf.discount_rewards(r_arr, gamma)\n",
    "                dp = gradient_with_baseline(policy, baseline, s_arr, a_arr, r_arr)\n",
    "                db = gradient_of_baseline(policy,baseline, s_arr, a_arr, r_arr)\n",
    "                \n",
    "                grad_baseline_buffer = grad_baseline_buffer + db\n",
    "                grad_policy_buffer = grad_policy_buffer + dp #accumulate gradients b/w updates\n",
    "            \n",
    "            policy = policy + alpha*grad_policy_buffer\n",
    "            baseline = baseline + alpha*grad_baseline_buffer\n",
    "            \n",
    "            trajectory_buffer = sf.ReplayBuffer(buffer_size)\n",
    "        \n",
    "        # Update statistics\n",
    "        r_total /= t\n",
    "        stats.append([i_episode,r_total])\n",
    "        sf.print_progress(i_episode,n_episodes-1, r_total)\n",
    "    \n",
    "    return policy,stats"
   ]
  },
  {
   "cell_type": "code",
   "execution_count": 19,
   "metadata": {},
   "outputs": [
    {
     "name": "stdout",
     "output_type": "stream",
     "text": [
      " |██████████████████████████████████████████████████| Progress:100.0% Val:1.303030303030303  4 \n"
     ]
    }
   ],
   "source": [
    "# run the algorithm to get statistics\n",
    "env.stochastic_transitions = True\n",
    "_, statsPGBS = PolicyGradWithBaseline()"
   ]
  },
  {
   "cell_type": "code",
   "execution_count": 21,
   "metadata": {},
   "outputs": [
    {
     "name": "stdout",
     "output_type": "stream",
     "text": [
      "Stochastic transitions\n"
     ]
    },
    {
     "data": {
      "image/png": "[encoded data removed]",
      "text/plain": [
       "<Figure size 432x288 with 1 Axes>"
      ]
     },
     "metadata": {
      "needs_background": "light"
     },
     "output_type": "display_data"
    }
   ],
   "source": [
    "print(\"Stochastic transitions\")\n",
    "sf.plot_results([statsPGNC,statsPGwC,statsPGBS,statsPGOP],['NoCasuality','WithCasuality','WithBaseline','OffPolicy'], average_over=50)"
   ]
  },
  {
   "cell_type": "code",
   "execution_count": null,
   "metadata": {},
   "outputs": [],
   "source": []
  }
 ],
 "metadata": {
  "kernelspec": {
   "display_name": "Python 3",
   "language": "python",
   "name": "python3"
  },
  "language_info": {
   "codemirror_mode": {
    "name": "ipython",
    "version": 3
   },
   "file_extension": ".py",
   "mimetype": "text/x-python",
   "name": "python",
   "nbconvert_exporter": "python",
   "pygments_lexer": "ipython3",
   "version": "3.6.5"
  }
 },
 "nbformat": 4,
 "nbformat_minor": 2
}
