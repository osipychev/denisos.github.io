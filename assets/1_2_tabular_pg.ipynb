{
 "cells": [
  {
   "cell_type": "markdown",
   "metadata": {},
   "source": [
    "# 1.2. Tabular Policy Gradient (REINFORCE)\n",
    "## Discrete state, discrete action problem\n",
    "\n",
    "Simple dicrete gridworld environment that can be solved with a tabular Reinforcement Learning (RL)"
   ]
  },
  {
   "cell_type": "code",
   "execution_count": 1,
   "metadata": {},
   "outputs": [],
   "source": [
    "# import env and modules\n",
    "import gym\n",
    "import numpy as np\n",
    "import myenv\n",
    "import inspect\n",
    "import service_functions as sf"
   ]
  },
  {
   "cell_type": "code",
   "execution_count": 2,
   "metadata": {},
   "outputs": [
    {
     "name": "stdout",
     "output_type": "stream",
     "text": [
      "The environment is initialized\n",
      "This is a simple grid-world env 5x5 with 1x25 state.\n",
      "You can render it with .render()\n",
      "[[0. 1. 0. 3. 0.]\n",
      " [0. 0. 0. 0. 0.]\n",
      " [0. 8. 0. 4. 0.]\n",
      " [0. 0. 0. 0. 0.]\n",
      " [0. 2. 0. 0. 0.]]\n",
      "Env step return (state,reward,done): (10, 0, False, {})\n"
     ]
    }
   ],
   "source": [
    "# create an instance of env\n",
    "env = myenv.SimpleGridWorldEnv()\n",
    "env.render()\n",
    "print('Env step return (state,reward,done):',env.step(env.action_space.sample()))"
   ]
  },
  {
   "cell_type": "markdown",
   "metadata": {},
   "source": [
    "### Policy-based algorithms in Reinforcement Learning (RL)\n",
    "\n",
    "Policy Learning (Policy Gradient) is family of algorithms in RL.\n",
    "\n",
    "The policy model (or behavior model) stores the information about the probability of action that should be taken in any given state in order to maximize the outcome. In this example, it is stored as a table of values)."
   ]
  },
  {
   "cell_type": "code",
   "execution_count": 3,
   "metadata": {},
   "outputs": [
    {
     "name": "stdout",
     "output_type": "stream",
     "text": [
      "def softmax(x):\n",
      "    \"\"\" stable softmax with normalization\"\"\"\n",
      "    exps = np.exp(x - np.max(x))\n",
      "    return exps / np.sum(exps)\n",
      "\n"
     ]
    }
   ],
   "source": [
    "# use stable softmax with normalization to compute the probabily of the action\n",
    "print(inspect.getsource(sf.softmax))"
   ]
  },
  {
   "cell_type": "code",
   "execution_count": 4,
   "metadata": {},
   "outputs": [
    {
     "name": "stdout",
     "output_type": "stream",
     "text": [
      "def gradient(policy, s_arr, a_arr, r_arr):\n",
      "    \"\"\" gradient function for softmax given single trajectory (based on lecture notes)\"\"\"\n",
      "    n = len(r_arr)\n",
      "    g = np.zeros_like(policy)\n",
      "    for t in range(n):\n",
      "        dp = np.eye(4)[a_arr[t]] - softmax(policy[s_arr[t]]) #one hot vector -minus policy for one state\n",
      "        g[s_arr[t]] = g[s_arr[t]] + dp * r_arr[t] #accumulate gradients through trajectory\n",
      "    return g\n",
      "\n"
     ]
    }
   ],
   "source": [
    "# gradient function for softmax used here is just a difference between true action taken and probability of this action\n",
    "print(inspect.getsource(sf.gradient))"
   ]
  },
  {
   "cell_type": "code",
   "execution_count": 5,
   "metadata": {},
   "outputs": [
    {
     "name": "stdout",
     "output_type": "stream",
     "text": [
      "def discount_rewards(r_arr, gamma):\n",
      "    \"\"\" function to discount reward in trajectory (WITH CAUSALITY)\"\"\"\n",
      "    discounted_reward = np.zeros_like(r_arr)\n",
      "    running_reward = 0\n",
      "    for t in reversed(range(len(r_arr))):\n",
      "        running_reward = running_reward*gamma + r_arr[t]\n",
      "        discounted_reward[t] = running_reward\n",
      "    return discounted_reward\n",
      "\n"
     ]
    }
   ],
   "source": [
    "# use discounted reward for trajectory (WITH CAUSALITY) \n",
    "print(inspect.getsource(sf.discount_rewards))"
   ]
  },
  {
   "cell_type": "markdown",
   "metadata": {},
   "source": [
    "### Policy Gradient (REINFORCE algorithm)"
   ]
  },
  {
   "cell_type": "code",
   "execution_count": 6,
   "metadata": {},
   "outputs": [],
   "source": [
    "# PG REINFORCE algorithm\n",
    "def PolicyGrad():\n",
    "    stats = []\n",
    "    \n",
    "    # policy table init\n",
    "    #policy = np.zeros([env.observation_space.n, env.action_space.n])\n",
    "    policy = np.random.rand(env.observation_space.n, env.action_space.n)-0.5\n",
    "    grad_buffer = np.zeros_like(policy)\n",
    "            \n",
    "    for i_episode in range(n_episodes):\n",
    "        r_total = 0\n",
    "        s = env.reset()\n",
    "        trajectory = []\n",
    "            \n",
    "        for t in range(episode_lenght):\n",
    "        \n",
    "            a_distr = sf.softmax(policy[s]) #get prob distr over actions\n",
    "            a = np.random.choice(np.arange(4), p=a_distr) #draw an action w.r. to prob distr\n",
    "            s_prime, r, d, _ = env.step(a)\n",
    "\n",
    "            trajectory.append([s,a,r])\n",
    "                \n",
    "            s = s_prime\n",
    "            r_total += r\n",
    "                \n",
    "            if d:\n",
    "                break\n",
    "                     \n",
    "        # update gradient buffer with new trajectory\n",
    "        s_arr, a_arr, r_arr = zip(*trajectory)\n",
    "        r_arr = sf.discount_rewards(r_arr, gamma)\n",
    "        grad = sf.gradient(policy, s_arr, a_arr, r_arr)\n",
    "        grad_buffer = grad_buffer + grad #accumulate gradients b/w updates\n",
    "        \n",
    "        if i_episode % update_freq == 0 and i_episode!=0:\n",
    "            policy = policy + alpha*grad_buffer\n",
    "            grad_buffer = np.zeros_like(policy)\n",
    "                    \n",
    "        # Update statistics\n",
    "        r_total /= t\n",
    "        stats.append([i_episode,r_total])\n",
    "        sf.print_progress(i_episode,n_episodes-1, r_total)\n",
    "        \n",
    "    return policy, stats"
   ]
  },
  {
   "cell_type": "code",
   "execution_count": 7,
   "metadata": {},
   "outputs": [],
   "source": [
    "# initialize hyperparams for PG\n",
    "n_episodes = 1000\n",
    "episode_lenght = 100\n",
    "gamma = 0.9\n",
    "alpha = 0.05\n",
    "update_freq = 10"
   ]
  },
  {
   "cell_type": "code",
   "execution_count": 8,
   "metadata": {
    "scrolled": true
   },
   "outputs": [
    {
     "name": "stdout",
     "output_type": "stream",
     "text": [
      " |██████████████████████████████████████████████████| Progress:100.0% Val:1.9191919191919191  \n",
      " |██████████████████████████████████████████████████| Progress:100.0% Val:2.0202020202020203 \n",
      "Policy (simple case):\n",
      "⇨⇩⇦⇦⇦\n",
      "⇧⇧⇦⇧⇦\n",
      "⇧⇧⇧⇧⇦\n",
      "⇧⇧⇧⇦⇧\n",
      "⇨⇧⇧⇧⇧\n",
      "\n"
     ]
    }
   ],
   "source": [
    "# run the algorithm to get statistics (simple env)\n",
    "env.stochastic_transitions = True\n",
    "policy, stats_pg_stoch = PolicyGrad()\n",
    "\n",
    "env.stochastic_transitions = False\n",
    "_, stats_pg_determ = PolicyGrad()\n",
    "\n",
    "print(\"Policy (simple case):\")\n",
    "sf.print_policy(policy)"
   ]
  },
  {
   "cell_type": "code",
   "execution_count": 10,
   "metadata": {},
   "outputs": [
    {
     "data": {
      "image/png": "[encoded data removed]",
      "text/plain": [
       "<Figure size 432x288 with 1 Axes>"
      ]
     },
     "metadata": {
      "needs_background": "light"
     },
     "output_type": "display_data"
    }
   ],
   "source": [
    "sf.plot_results([stats_pg_stoch,stats_pg_determ],['PG stoch','PG determ'], average_over=50)"
   ]
  }
 ],
 "metadata": {
  "kernelspec": {
   "display_name": "Python 3",
   "language": "python",
   "name": "python3"
  },
  "language_info": {
   "codemirror_mode": {
    "name": "ipython",
    "version": 3
   },
   "file_extension": ".py",
   "mimetype": "text/x-python",
   "name": "python",
   "nbconvert_exporter": "python",
   "pygments_lexer": "ipython3",
   "version": "3.5.2"
  }
 },
 "nbformat": 4,
 "nbformat_minor": 2
}
