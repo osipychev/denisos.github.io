{
 "cells": [
  {
   "cell_type": "markdown",
   "metadata": {},
   "source": [
    "# 1.1 Tabular Q-learning\n",
    "\n",
    "##  Discrete state, discrete action problem\n",
    "\n",
    "Simple dicrete gridworld environment that can be solved with a tabular Reinforcement Learning (RL)"
   ]
  },
  {
   "cell_type": "code",
   "execution_count": 1,
   "metadata": {},
   "outputs": [],
   "source": [
    "# import env and modules\n",
    "import gym\n",
    "import numpy as np\n",
    "import myenv\n",
    "import inspect\n",
    "import service_functions as sf"
   ]
  },
  {
   "cell_type": "code",
   "execution_count": 2,
   "metadata": {},
   "outputs": [
    {
     "name": "stdout",
     "output_type": "stream",
     "text": [
      "The environment is initialized\n",
      "This is a simple grid-world env 5x5 with 1x25 state.\n",
      "You can render it with .render()\n",
      "[[0. 1. 0. 3. 0.]\n",
      " [0. 0. 0. 0. 0.]\n",
      " [0. 0. 0. 4. 0.]\n",
      " [8. 0. 0. 0. 0.]\n",
      " [0. 2. 0. 0. 0.]]\n",
      "Env step return (state,reward,done): (10, 0, False, {})\n"
     ]
    }
   ],
   "source": [
    "# create an instance of the environment\n",
    "env = myenv.SimpleGridWorldEnv()\n",
    "env.render()\n",
    "print('Env step return (state,reward,done):',env.step(env.action_space.sample()))"
   ]
  },
  {
   "cell_type": "markdown",
   "metadata": {},
   "source": [
    "### Value-based algorithms in Reinforcement Learning (RL)\n",
    "Q-Learning and SARSA are classic methods of Value-based RL.\n",
    "\n",
    "The policy model (or behavior model) stores state-action-value information (in this example, it is a table of values).\n",
    "For each given state it can say how valuable is to take any action in any given state."
   ]
  },
  {
   "cell_type": "markdown",
   "metadata": {},
   "source": [
    "### SARSA algorithm (on-policy learning)"
   ]
  },
  {
   "cell_type": "code",
   "execution_count": 3,
   "metadata": {},
   "outputs": [],
   "source": [
    "#SARSA algorithm\n",
    "def SARSA(q_table, exploration_policy):\n",
    "    \n",
    "    Q = np.copy(q_table)\n",
    "    stats = []\n",
    "    \n",
    "    for i_episode in range(n_episodes):\n",
    "        r_total = 0\n",
    "        s = env.reset()\n",
    "        a = exploration_policy(Q[s], eps)\n",
    "            \n",
    "        for t in range(episode_lenght):\n",
    "        \n",
    "            s_prime, r, d, _ = env.step(a)\n",
    "            a_prime = exploration_policy(Q[s_prime], eps)\n",
    "        \n",
    "            # Q Update\n",
    "            q_target = r + gamma * Q[s_prime][a_prime]\n",
    "            q_delta = q_target - Q[s][a]\n",
    "            Q[s][a] = Q[s][a] + alpha * q_delta\n",
    "    \n",
    "            if d:\n",
    "                break\n",
    "                \n",
    "            a = a_prime\n",
    "            s = s_prime\n",
    "            r_total += r\n",
    "        \n",
    "        # Update statistics\n",
    "        r_total /= t\n",
    "        stats.append([i_episode,r_total])\n",
    "        sf.print_progress(i_episode,n_episodes-1, r_total)\n",
    "    return Q, stats"
   ]
  },
  {
   "cell_type": "markdown",
   "metadata": {},
   "source": [
    "### Q-learning algorithm (off-policy)"
   ]
  },
  {
   "cell_type": "code",
   "execution_count": 4,
   "metadata": {},
   "outputs": [],
   "source": [
    "def Q_Learn(q_table, exploration_policy):\n",
    "    \n",
    "    Q = np.copy(q_table)\n",
    "    stats = []\n",
    "\n",
    "    for i_episode in range(n_episodes):\n",
    "\n",
    "        r_total = 0\n",
    "        s = env.reset()\n",
    "        a = exploration_policy(Q[s], eps)\n",
    "    \n",
    "        for t in range(episode_lenght):\n",
    "        \n",
    "            a = exploration_policy(Q[s], eps)\n",
    "            s_prime, r, d, _ = env.step(a)\n",
    "            \n",
    "            # Q Update\n",
    "            q_target = r + gamma * max(Q[s_prime])\n",
    "            q_delta = q_target - Q[s][a]\n",
    "            Q[s][a] = Q[s][a] + alpha * q_delta\n",
    "    \n",
    "            if d:\n",
    "                break\n",
    "                \n",
    "            s = s_prime\n",
    "            r_total += r\n",
    "                \n",
    "        # Update statistics\n",
    "        r_total /= t\n",
    "        stats.append([i_episode,r_total])\n",
    "        sf.print_progress(i_episode,n_episodes-1, r_total)\n",
    "    return Q, stats"
   ]
  },
  {
   "cell_type": "code",
   "execution_count": 5,
   "metadata": {},
   "outputs": [
    {
     "name": "stdout",
     "output_type": "stream",
     "text": [
      "def epsilon_greedy_policy(q_val, epsilon):\n",
      "    \"\"\" epsilon greedy policy (explores in epsilon times)\"\"\"\n",
      "    if np.random.uniform() < epsilon:\n",
      "        #explore\n",
      "        action = np.random.randint(len(q_val))\n",
      "    else:\n",
      "        #be greedy\n",
      "        action = np.argmax(q_val)\n",
      "    return action\n",
      "\n"
     ]
    }
   ],
   "source": [
    "# use epsilon greedy exploration policy\n",
    "print(inspect.getsource(sf.epsilon_greedy_policy))"
   ]
  },
  {
   "cell_type": "markdown",
   "metadata": {},
   "source": [
    "## Testing the algorithms"
   ]
  },
  {
   "cell_type": "code",
   "execution_count": 6,
   "metadata": {},
   "outputs": [],
   "source": [
    "# initialize hyperparams\n",
    "n_episodes = 1000\n",
    "episode_lenght = 100\n",
    "gamma = 0.95 # discount\n",
    "alpha = 0.05 # learning rate\n",
    "eps = 0.01 # exploration rate"
   ]
  },
  {
   "cell_type": "code",
   "execution_count": 7,
   "metadata": {
    "scrolled": true
   },
   "outputs": [
    {
     "name": "stdout",
     "output_type": "stream",
     "text": [
      " |██████████████████████████████████████████████████| Progress:100.0% Val:1.7575757575757576 \n",
      " |██████████████████████████████████████████████████| Progress:100.0% Val:1.4646464646464648 \n",
      " |██████████████████████████████████████████████████| Progress:100.0% Val:2.0202020202020203  \n",
      " |██████████████████████████████████████████████████| Progress:100.0% Val:1.6161616161616161  \n"
     ]
    }
   ],
   "source": [
    "# SARSA vs QLearn in stoch env\n",
    "env.stochastic_transitions = True\n",
    "\n",
    "Q_sarsa, stats_sarsa = SARSA(np.zeros((5*5,4)), sf.epsilon_greedy_policy)\n",
    "Q_ql, stats_ql = Q_Learn(np.zeros((5*5,4)), sf.epsilon_greedy_policy)\n",
    "\n",
    "env.stochastic_transitions = False\n",
    "\n",
    "_, stats_sarsa_det = SARSA(np.zeros((env.observation_space.n, env.action_space.n)), sf.epsilon_greedy_policy)\n",
    "_, stats_ql_det = Q_Learn(np.zeros((env.observation_space.n, env.action_space.n)), sf.epsilon_greedy_policy)"
   ]
  },
  {
   "cell_type": "code",
   "execution_count": 8,
   "metadata": {},
   "outputs": [
    {
     "name": "stdout",
     "output_type": "stream",
     "text": [
      "Sarsa policy:\n",
      "⇩⇧⇩⇧⇦\n",
      "⇩⇧⇦⇧⇧\n",
      "⇩⇧⇧⇧⇧\n",
      "⇩⇧⇧⇧⇧\n",
      "⇨⇧⇧⇧⇧\n",
      "\n",
      "QLearn policy:\n",
      "⇩⇧⇩⇧⇦\n",
      "⇨⇧⇨⇧⇧\n",
      "⇨⇧⇧⇧⇧\n",
      "⇨⇧⇧⇧⇧\n",
      "⇨⇧⇧⇧⇧\n",
      "\n"
     ]
    }
   ],
   "source": [
    "# Print the final policies\n",
    "print('Sarsa policy:')\n",
    "sf.print_policy(Q_sarsa)\n",
    "print('QLearn policy:')\n",
    "sf.print_policy(Q_ql)"
   ]
  },
  {
   "cell_type": "code",
   "execution_count": 10,
   "metadata": {},
   "outputs": [
    {
     "data": {
      "image/png": "[encoded data removed]",
      "text/plain": [
       "<Figure size 432x288 with 1 Axes>"
      ]
     },
     "metadata": {
      "needs_background": "light"
     },
     "output_type": "display_data"
    }
   ],
   "source": [
    "# Plot the training convergence\n",
    "sf.plot_results([stats_sarsa,stats_ql,stats_sarsa_det,stats_ql_det],['Sarsa stoch','QLearn stoch','Sarsa determ','QLearn determ'], average_over=50)"
   ]
  }
 ],
 "metadata": {
  "kernelspec": {
   "display_name": "Python 3",
   "language": "python",
   "name": "python3"
  },
  "language_info": {
   "codemirror_mode": {
    "name": "ipython",
    "version": 3
   },
   "file_extension": ".py",
   "mimetype": "text/x-python",
   "name": "python",
   "nbconvert_exporter": "python",
   "pygments_lexer": "ipython3",
   "version": "3.6.5"
  }
 },
 "nbformat": 4,
 "nbformat_minor": 2
}
